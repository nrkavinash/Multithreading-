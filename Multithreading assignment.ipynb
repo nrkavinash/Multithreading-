{
 "cells": [
  {
   "cell_type": "markdown",
   "id": "cd3d0db9-1cfa-41d1-9393-25416d4b7c84",
   "metadata": {},
   "source": [
    "# Q1 Answer"
   ]
  },
  {
   "cell_type": "code",
   "execution_count": 2,
   "id": "16a9854f-024b-42de-898d-c4818d7ab47c",
   "metadata": {},
   "outputs": [],
   "source": [
    "## 1. Import threading\n",
    "import threading"
   ]
  },
  {
   "cell_type": "code",
   "execution_count": 3,
   "id": "801a51d0-7638-401c-9c92-3b31b693953b",
   "metadata": {},
   "outputs": [],
   "source": [
    "##  2. Declaration of thread patterns\n",
    "\n",
    "def test(id):\n",
    "    print(\"this is my test id %d\" %id)"
   ]
  },
  {
   "cell_type": "code",
   "execution_count": null,
   "id": "4ee5ce5a-d513-4a52-ae5e-c30ebe0e91a6",
   "metadata": {},
   "outputs": [],
   "source": [
    "## 3. Start a New thread\n",
    "thread.start_new_thread (function, args [, kwargs])"
   ]
  },
  {
   "cell_type": "code",
   "execution_count": null,
   "id": "9538838f-07b1-4e53-9edc-7115f46cf695",
   "metadata": {},
   "outputs": [],
   "source": [
    "## 4. Join Method\n",
    "for i in thread:\n",
    "    t.start()\n",
    "t.join()\n",
    "Start(),ru(),join()\n"
   ]
  },
  {
   "cell_type": "markdown",
   "id": "e303fb20-c2e5-4623-9a98-16c6dc4b8a88",
   "metadata": {},
   "source": [
    "# Q3 Answer"
   ]
  },
  {
   "cell_type": "code",
   "execution_count": 37,
   "id": "4752263a-cec9-47be-a04c-6eeed0e8138a",
   "metadata": {},
   "outputs": [
    {
     "name": "stdout",
     "output_type": "stream",
     "text": [
      "Starting Thread-1\n",
      "Starting Thread-2\n",
      "Exiting Main Thread\n"
     ]
    }
   ],
   "source": [
    "import threading\n",
    "import time\n",
    "exitFlag = 0\n",
    "class myThread (threading.Thread):\n",
    "    def __init__(self, threadID, name, counter):\n",
    "        threading.Thread.__init__(self)\n",
    "        self.threadID = threadID\n",
    "        self.name = name\n",
    "        self.counter = counter\n",
    "    def run(self):\n",
    "        print(\"Starting \" + self.name)\n",
    "        print_time(self.name, 5, self.counter)\n",
    "        print(\"Exiting \" + self.name)\n",
    "def print_time(threadName, counter, delay):\n",
    "    while counter:\n",
    "        if exitFlag:\n",
    "            threadName.exit()\n",
    "            time.sleep(delay)\n",
    "    counter -= 1\n",
    "# Create new threads\n",
    "thread1 = myThread(1, \"Thread-1\", 1)\n",
    "thread2 = myThread(2, \"Thread-2\", 2)\n",
    "# Start new Threads\n",
    "thread1.start()\n",
    "thread2.start()\n",
    "print(\"Exiting Main Thread\")\n"
   ]
  },
  {
   "cell_type": "code",
   "execution_count": 41,
   "id": "9157f9f4-1335-470b-89db-759236507e7d",
   "metadata": {},
   "outputs": [
    {
     "name": "stdin",
     "output_type": "stream",
     "text": [
      "enter the number 50\n"
     ]
    },
    {
     "name": "stdout",
     "output_type": "stream",
     "text": [
      "Square: 2500\n",
      "Cube: 125000\n",
      "Done!\n"
     ]
    }
   ],
   "source": [
    "import threading\n",
    " \n",
    "def print_cube(num):\n",
    "    # function to print cube of given num\n",
    "    print(\"Cube: {}\" .format(num * num * num))\n",
    " \n",
    " \n",
    "def print_square(num):\n",
    "    # function to print square of given num\n",
    "    print(\"Square: {}\" .format(num * num))\n",
    " \n",
    " \n",
    "if __name__ ==\"__main__\":\n",
    "    # creating thread\n",
    "    NUM=(int(input(\"enter the number\")))\n",
    "    t1 = threading.Thread(target=print_square, args=(NUM,))\n",
    "    t2 = threading.Thread(target=print_cube, args=(NUM,))\n",
    " \n",
    "    # starting thread 1\n",
    "    t1.start()\n",
    "    # starting thread 2\n",
    "    t2.start()\n",
    " \n",
    "    # wait until thread 1 is completely executed\n",
    "    t1.join()\n",
    "    # wait until thread 2 is completely executed\n",
    "    t2.join()\n",
    " \n",
    "    # both threads completely executed\n",
    "    print(\"Done!\")\n",
    "\n"
   ]
  },
  {
   "cell_type": "markdown",
   "id": "218b0e30-c813-44f1-b84c-48f9690ba5cb",
   "metadata": {},
   "source": [
    "# Q4 Answer"
   ]
  },
  {
   "cell_type": "code",
   "execution_count": 42,
   "id": "f7f2803c-e4d9-4e27-8d04-c1ee2dfc90e4",
   "metadata": {},
   "outputs": [
    {
     "name": "stdin",
     "output_type": "stream",
     "text": [
      "enter the number 5\n"
     ]
    },
    {
     "name": "stdout",
     "output_type": "stream",
     "text": [
      "Square: 25\n",
      "Cube: 125\n",
      "Done!\n"
     ]
    }
   ],
   "source": [
    "import threading\n",
    " \n",
    "def print_cube(num):\n",
    "    # function to print cube of given num\n",
    "    print(\"Cube: {}\" .format(num * num * num))\n",
    " \n",
    " \n",
    "def print_square(num):\n",
    "    # function to print square of given num\n",
    "    print(\"Square: {}\" .format(num * num))\n",
    " \n",
    " \n",
    "if __name__ ==\"__main__\":\n",
    "    # creating thread\n",
    "    NUM=(int(input(\"enter the number\")))\n",
    "    t1 = threading.Thread(target=print_square, args=(NUM,))\n",
    "    t2 = threading.Thread(target=print_cube, args=(NUM,))\n",
    " \n",
    "    # starting thread 1\n",
    "    t1.start()\n",
    "    # starting thread 2\n",
    "    t2.start()\n",
    " \n",
    "    # wait until thread 1 is completely executed\n",
    "    t1.join()\n",
    "    # wait until thread 2 is completely executed\n",
    "    t2.join()\n",
    " \n",
    "    # both threads completely executed\n",
    "    print(\"Done!\")\n",
    "\n"
   ]
  },
  {
   "cell_type": "markdown",
   "id": "2dea1f4d-e064-465a-9f18-117414317b17",
   "metadata": {},
   "source": [
    "# Q6 Answer"
   ]
  },
  {
   "cell_type": "code",
   "execution_count": 48,
   "id": "f275707b-c051-4f9c-ba79-3095d3e0c216",
   "metadata": {},
   "outputs": [
    {
     "name": "stdin",
     "output_type": "stream",
     "text": [
      "enter the number 25\n"
     ]
    },
    {
     "name": "stdout",
     "output_type": "stream",
     "text": [
      "Waiting for threads to finish...\n",
      "Value: 25\n"
     ]
    }
   ],
   "source": [
    "# Race Condition\n",
    "\n",
    "import threading\n",
    " \n",
    "def adder(amount, repeats):\n",
    "    global value\n",
    "    for _ in range(repeats):\n",
    "        value += amount\n",
    "\n",
    "def subtractor(amount, repeats):\n",
    "    global value\n",
    "    for _ in range(repeats):\n",
    "        value -= amount\n",
    "value =(int(input(\"enter the number\")))\n",
    "         \n",
    "adder_thread =threading.Thread(target=adder, args=(100, 1000000))\n",
    "adder_thread.start()\n",
    "\n",
    "subtractor_thread =threading.Thread(target=subtractor, args=(100, 1000000))\n",
    "subtractor_thread.start()\n",
    "\n",
    "print('Waiting for threads to finish...')\n",
    "adder_thread.join()\n",
    "subtractor_thread.join()\n",
    "\n",
    "print(f'Value: {value}')\n"
   ]
  },
  {
   "cell_type": "code",
   "execution_count": null,
   "id": "805b6337-9a01-42c6-9bea-860edc2db8ea",
   "metadata": {},
   "outputs": [],
   "source": [
    "from threading import Thread\n",
    "from threading import Lock\n",
    " \n",
    "# task to be executed in a new thread\n",
    "def task(lock):\n",
    "    print('Thread acquiring lock...')\n",
    "    with lock:\n",
    "        print('Thread acquiring lock again...')\n",
    "        with lock:\n",
    "            # will never get here\n",
    "            pass\n",
    " \n",
    "# create the mutex lock\n",
    "lock = Lock()\n",
    "# create and configure the new thread\n",
    "thread = Thread(target=task, args=(lock,))\n",
    "# start the new thread\n",
    "thread.start()\n",
    "# wait for threads to exit...\n",
    "thread.join()\n"
   ]
  },
  {
   "cell_type": "code",
   "execution_count": null,
   "id": "1d93d9b7-443e-4687-84d4-094b7b8e84a9",
   "metadata": {},
   "outputs": [
    {
     "name": "stdout",
     "output_type": "stream",
     "text": [
      "Thread acquiring lock\n",
      "Thread acquiring lock again\n"
     ]
    }
   ],
   "source": [
    "import threading\n",
    "from threading import Lock\n",
    " \n",
    "def test1(lock):\n",
    "    print(\"Thread acquiring lock\")\n",
    "    with lock:\n",
    "        print(\"Thread acquiring lock again\")\n",
    "        with lock:\n",
    "            \n",
    "            pass\n",
    "        \n",
    "lock= Lock()\n",
    "thread =threading.Thread(target=test1, args=(lock,))\n",
    "thread.start()\n",
    "thread.join()\n"
   ]
  },
  {
   "cell_type": "code",
   "execution_count": null,
   "id": "1c4d04a2-36ac-4478-8d47-ebf591786e38",
   "metadata": {},
   "outputs": [],
   "source": []
  }
 ],
 "metadata": {
  "kernelspec": {
   "display_name": "Python 3 (ipykernel)",
   "language": "python",
   "name": "python3"
  },
  "language_info": {
   "codemirror_mode": {
    "name": "ipython",
    "version": 3
   },
   "file_extension": ".py",
   "mimetype": "text/x-python",
   "name": "python",
   "nbconvert_exporter": "python",
   "pygments_lexer": "ipython3",
   "version": "3.10.8"
  }
 },
 "nbformat": 4,
 "nbformat_minor": 5
}
